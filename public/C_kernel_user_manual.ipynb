{
 "cells": [
  {
   "cell_type": "markdown",
   "metadata": {},
   "source": [
    "# C kernel user manual for Jupyterhub (using jupyter_c_kernel)"
   ]
  },
  {
   "cell_type": "code",
   "execution_count": 1,
   "metadata": {},
   "outputs": [
    {
     "name": "stdout",
     "output_type": "stream",
     "text": [
      "Hello, world!"
     ]
    }
   ],
   "source": [
    "#include <stdio.h>\n",
    "\n",
    "int main(void) {\n",
    "    printf(\"Hello, world!\");\n",
    "    \n",
    "    return 0;\n",
    "}"
   ]
  },
  {
   "cell_type": "markdown",
   "metadata": {},
   "source": [
    " - If you want to include standard library of C language like math.h, please add compile symbol __\"//%cflags: -lm\"__ as the cell below"
   ]
  },
  {
   "cell_type": "code",
   "execution_count": 2,
   "metadata": {},
   "outputs": [
    {
     "name": "stdout",
     "output_type": "stream",
     "text": [
      "sqrt(1145141919810) = 1070113.040669\n"
     ]
    }
   ],
   "source": [
    "//%cflags: -lm\n",
    "\n",
    "#include <stdio.h>\n",
    "#include <math.h>\n",
    "\n",
    "int main(void) {\n",
    "    const long long stink = 1145141919810;\n",
    "    \n",
    "    printf(\"sqrt(%lld) = %f\\n\", stink, sqrt(stink));\n",
    "    \n",
    "    return 0;\n",
    "}"
   ]
  },
  {
   "cell_type": "markdown",
   "metadata": {},
   "source": [
    " - We __STRONGLY__ suggest replacing __scanf__ with __sscanf__ in order to avoid touching the irredict input stream\n",
    " - Or you can just init your variable with your input\n",
    " - We __CANNOT__ promise what you will get by still using __scanf__ if you DON'T obay this rule"
   ]
  },
  {
   "cell_type": "code",
   "execution_count": 3,
   "metadata": {},
   "outputs": [
    {
     "name": "stdout",
     "output_type": "stream",
     "text": [
      "RUN!\n"
     ]
    }
   ],
   "source": [
    "#include <stdio.h>\n",
    "\n",
    "char s[100];\n",
    "char input[] = \"RUN!\";\n",
    "\n",
    "int main(void) {\n",
    "    sscanf(input, \"%s\", s);\n",
    "    printf(\"%s\\n\", s);\n",
    "    \n",
    "    return 0;\n",
    "}"
   ]
  }
 ],
 "metadata": {
  "kernelspec": {
   "display_name": "C",
   "language": "c",
   "name": "c"
  },
  "language_info": {
   "file_extension": ".c",
   "mimetype": "text/plain",
   "name": "c"
  }
 },
 "nbformat": 4,
 "nbformat_minor": 4
}
